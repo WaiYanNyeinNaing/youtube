{
  "nbformat": 4,
  "nbformat_minor": 0,
  "metadata": {
    "colab": {
      "name": "Hyperparameters optimisation | Keras.ipynb",
      "version": "0.3.2",
      "views": {},
      "default_view": {},
      "provenance": [],
      "collapsed_sections": []
    },
    "kernelspec": {
      "name": "python3",
      "display_name": "Python 3"
    },
    "accelerator": "GPU"
  },
  "cells": [
    {
      "metadata": {
        "id": "pspq-RG4aGMq",
        "colab_type": "text"
      },
      "source": [
        "# **Imports **"
      ],
      "cell_type": "markdown"
    },
    {
      "metadata": {
        "id": "8RNNCVeeW9c0",
        "colab_type": "code",
        "colab": {
          "autoexec": {
            "startup": false,
            "wait_interval": 0
          }
        }
      },
      "source": [
        "import numpy\n",
        "import keras\n",
        "from keras.models import Sequential\n",
        "from keras.layers import Dense, Dropout\n",
        "from keras.optimizers import *\n",
        "from keras.wrappers.scikit_learn import KerasClassifier\n",
        "from keras.datasets import mnist\n",
        "import pprint\n",
        "pp = pprint.PrettyPrinter(indent = 4)"
      ],
      "cell_type": "code",
      "execution_count": 0,
      "outputs": []
    },
    {
      "metadata": {
        "id": "5ml5Nm8XIU3F",
        "colab_type": "text"
      },
      "source": [
        "# **Model definition**"
      ],
      "cell_type": "markdown"
    },
    {
      "metadata": {
        "id": "yZxtYGnYYTaB",
        "colab_type": "code",
        "colab": {
          "autoexec": {
            "startup": false,
            "wait_interval": 0
          }
        }
      },
      "source": [
        "def build_model(optimizer, learning_rate, activation, dropout_rate,\n",
        "                initilizer,num_unit):\n",
        "    keras.backend.clear_session()\n",
        "    model = Sequential()\n",
        "    model.add(Dense(num_unit, kernel_initializer=initilizer,\n",
        "                    activation=activation, input_shape=(784,)))\n",
        "    model.add(Dropout(dropout_rate))\n",
        "    model.add(Dense(num_unit, kernel_initializer=initilizer,\n",
        "                    activation=activation))\n",
        "    model.add(Dropout(dropout_rate)) \n",
        "    model.add(Dense(10, activation='softmax'))\n",
        "    model.compile(loss='categorical_crossentropy',\n",
        "                  optimizer=optimizer(lr=learning_rate),\n",
        "                  metrics=['accuracy'])\n",
        "    return model"
      ],
      "cell_type": "code",
      "execution_count": 0,
      "outputs": []
    },
    {
      "metadata": {
        "id": "mIxg4X7BYZ-y",
        "colab_type": "text"
      },
      "source": [
        "# **Load dataset**"
      ],
      "cell_type": "markdown"
    },
    {
      "metadata": {
        "id": "erRBr0SsXyST",
        "colab_type": "code",
        "colab": {
          "autoexec": {
            "startup": false,
            "wait_interval": 0
          }
        }
      },
      "source": [
        "(x_train, y_train), (x_test, y_test) = mnist.load_data()\n",
        "x_train = x_train.reshape(60000, 784)\n",
        "x_test = x_test.reshape(10000, 784)\n",
        "x_train = x_train.astype('float32')\n",
        "x_test = x_test.astype('float32')\n",
        "x_train /= 255\n",
        "x_test /= 255"
      ],
      "cell_type": "code",
      "execution_count": 0,
      "outputs": []
    },
    {
      "metadata": {
        "id": "41rjI9r8acuF",
        "colab_type": "text"
      },
      "source": [
        "# **Define the parameters**"
      ],
      "cell_type": "markdown"
    },
    {
      "metadata": {
        "id": "I-mNgtFJaemi",
        "colab_type": "code",
        "colab": {
          "autoexec": {
            "startup": false,
            "wait_interval": 0
          }
        }
      },
      "source": [
        "# [:1] is for testing\n",
        "\n",
        "batch_size = [20, 50, 100][:1]\n",
        "\n",
        "epochs = [1, 20, 50][:1]\n",
        "\n",
        "initilizer = ['lecun_uniform', 'normal', 'he_normal', 'he_uniform'][:1]\n",
        "\n",
        "learning_rate = [0.1, 0.001, 0.02][:1]\n",
        "\n",
        "dropout_rate = [0.3, 0.2, 0.8][:1]\n",
        "\n",
        "num_unit = [10, 5][:1]\n",
        "\n",
        "activation = ['relu', 'tanh', 'sigmoid', 'hard_sigmoid', 'linear'][:1]\n",
        "\n",
        "optimizer = [SGD, RMSprop, Adagrad, Adadelta, Adam, Adamax, Nadam][:1]\n"
      ],
      "cell_type": "code",
      "execution_count": 0,
      "outputs": []
    },
    {
      "metadata": {
        "id": "zoTlx3hJaN35",
        "colab_type": "text"
      },
      "source": [
        "# **Model wrapper and GridSearchCV**"
      ],
      "cell_type": "markdown"
    },
    {
      "metadata": {
        "id": "RzCKa8WWX46y",
        "colab_type": "code",
        "colab": {
          "autoexec": {
            "startup": false,
            "wait_interval": 0
          }
        }
      },
      "source": [
        "# Creat the wrapper and pass params to GridSearchCV \n",
        "# parameters is a dict with all values\n",
        "\n",
        "parameters = dict(batch_size = batch_size,\n",
        "                  epochs = epochs,\n",
        "                  dropout_rate = dropout_rate,\n",
        "                  num_unit = num_unit,\n",
        "                  initilizer = initilizer,\n",
        "                  learning_rate = learning_rate,\n",
        "                  activation = activation,\n",
        "                  optimizer = optimizer)\n",
        "\n",
        "model = KerasClassifier(build_fn=build_model, verbose=0)\n",
        "\n",
        "models = GridSearchCV(estimator = model, param_grid=parameters, n_jobs=1)\n",
        "\n"
      ],
      "cell_type": "code",
      "execution_count": 0,
      "outputs": []
    },
    {
      "metadata": {
        "id": "M3UonxmDbi1c",
        "colab_type": "text"
      },
      "source": [
        "# ***Train the models***"
      ],
      "cell_type": "markdown"
    },
    {
      "metadata": {
        "id": "0cjXIoTqYDHr",
        "colab_type": "code",
        "colab": {
          "autoexec": {
            "startup": false,
            "wait_interval": 0
          }
        }
      },
      "source": [
        "best_model = models.fit(x_train, y_train)\n",
        "print('Best model :')\n",
        "pp.pprint(best_model.best_params_)"
      ],
      "cell_type": "code",
      "execution_count": 0,
      "outputs": []
    }
  ]
}